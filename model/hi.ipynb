{
 "cells": [
  {
   "cell_type": "code",
   "execution_count": 125,
   "id": "01e1ebdc",
   "metadata": {},
   "outputs": [],
   "source": [
    "import pandas as pd\n",
    "import numpy as np\n",
    "from sklearn.model_selection import  train_test_split\n",
    "from sklearn.ensemble import RandomForestRegressor"
   ]
  },
  {
   "cell_type": "code",
   "execution_count": 126,
   "id": "947068c1",
   "metadata": {},
   "outputs": [
    {
     "data": {
      "application/vnd.microsoft.datawrangler.viewer.v0+json": {
       "columns": [
        {
         "name": "index",
         "rawType": "int64",
         "type": "integer"
        },
        {
         "name": "BHK",
         "rawType": "int64",
         "type": "integer"
        },
        {
         "name": "Price_per_Sqft",
         "rawType": "float64",
         "type": "float"
        },
        {
         "name": "Main_Locality",
         "rawType": "object",
         "type": "string"
        },
        {
         "name": "Sqft",
         "rawType": "float64",
         "type": "float"
        },
        {
         "name": "Rent",
         "rawType": "float64",
         "type": "float"
        }
       ],
       "ref": "330353a2-eb2b-4b76-8021-ed7c2c2d3a9a",
       "rows": [
        [
         "0",
         "2",
         "3800.0",
         "pal",
         "1173.684211",
         "12636.67"
        ],
        [
         "1",
         "2",
         "3600.0",
         "palanpur",
         "1250.0",
         "11250.0"
        ],
        [
         "2",
         "3",
         "3392.0",
         "vesu",
         "1300.117925",
         "16170.0"
        ],
        [
         "3",
         "2",
         "3751.0",
         "palanpur",
         "1181.018395",
         "11075.0"
        ],
        [
         "4",
         "2",
         "3200.0",
         "palanpur",
         "1250.0",
         "10000.0"
        ]
       ],
       "shape": {
        "columns": 5,
        "rows": 5
       }
      },
      "text/html": [
       "<div>\n",
       "<style scoped>\n",
       "    .dataframe tbody tr th:only-of-type {\n",
       "        vertical-align: middle;\n",
       "    }\n",
       "\n",
       "    .dataframe tbody tr th {\n",
       "        vertical-align: top;\n",
       "    }\n",
       "\n",
       "    .dataframe thead th {\n",
       "        text-align: right;\n",
       "    }\n",
       "</style>\n",
       "<table border=\"1\" class=\"dataframe\">\n",
       "  <thead>\n",
       "    <tr style=\"text-align: right;\">\n",
       "      <th></th>\n",
       "      <th>BHK</th>\n",
       "      <th>Price_per_Sqft</th>\n",
       "      <th>Main_Locality</th>\n",
       "      <th>Sqft</th>\n",
       "      <th>Rent</th>\n",
       "    </tr>\n",
       "  </thead>\n",
       "  <tbody>\n",
       "    <tr>\n",
       "      <th>0</th>\n",
       "      <td>2</td>\n",
       "      <td>3800.0</td>\n",
       "      <td>pal</td>\n",
       "      <td>1173.684211</td>\n",
       "      <td>12636.67</td>\n",
       "    </tr>\n",
       "    <tr>\n",
       "      <th>1</th>\n",
       "      <td>2</td>\n",
       "      <td>3600.0</td>\n",
       "      <td>palanpur</td>\n",
       "      <td>1250.000000</td>\n",
       "      <td>11250.00</td>\n",
       "    </tr>\n",
       "    <tr>\n",
       "      <th>2</th>\n",
       "      <td>3</td>\n",
       "      <td>3392.0</td>\n",
       "      <td>vesu</td>\n",
       "      <td>1300.117925</td>\n",
       "      <td>16170.00</td>\n",
       "    </tr>\n",
       "    <tr>\n",
       "      <th>3</th>\n",
       "      <td>2</td>\n",
       "      <td>3751.0</td>\n",
       "      <td>palanpur</td>\n",
       "      <td>1181.018395</td>\n",
       "      <td>11075.00</td>\n",
       "    </tr>\n",
       "    <tr>\n",
       "      <th>4</th>\n",
       "      <td>2</td>\n",
       "      <td>3200.0</td>\n",
       "      <td>palanpur</td>\n",
       "      <td>1250.000000</td>\n",
       "      <td>10000.00</td>\n",
       "    </tr>\n",
       "  </tbody>\n",
       "</table>\n",
       "</div>"
      ],
      "text/plain": [
       "   BHK  Price_per_Sqft Main_Locality         Sqft      Rent\n",
       "0    2          3800.0           pal  1173.684211  12636.67\n",
       "1    2          3600.0      palanpur  1250.000000  11250.00\n",
       "2    3          3392.0          vesu  1300.117925  16170.00\n",
       "3    2          3751.0      palanpur  1181.018395  11075.00\n",
       "4    2          3200.0      palanpur  1250.000000  10000.00"
      ]
     },
     "execution_count": 126,
     "metadata": {},
     "output_type": "execute_result"
    }
   ],
   "source": [
    "data = pd.read_csv('./house_rent_final.csv')\n",
    "data.head(5)"
   ]
  },
  {
   "cell_type": "code",
   "execution_count": 127,
   "id": "28ffa598",
   "metadata": {},
   "outputs": [
    {
     "data": {
      "text/plain": [
       "Index(['BHK', 'Price_per_Sqft', 'Main_Locality', 'Sqft', 'Rent'], dtype='object')"
      ]
     },
     "execution_count": 127,
     "metadata": {},
     "output_type": "execute_result"
    }
   ],
   "source": [
    "data.columns"
   ]
  },
  {
   "cell_type": "code",
   "execution_count": 128,
   "id": "3e65b122",
   "metadata": {},
   "outputs": [],
   "source": [
    "data.drop(['Price_per_Sqft'], axis=1, inplace=True)"
   ]
  },
  {
   "cell_type": "code",
   "execution_count": 129,
   "id": "9e90b6fa",
   "metadata": {},
   "outputs": [
    {
     "data": {
      "text/plain": [
       "Index(['BHK', 'Main_Locality', 'Sqft', 'Rent'], dtype='object')"
      ]
     },
     "execution_count": 129,
     "metadata": {},
     "output_type": "execute_result"
    }
   ],
   "source": [
    "data.columns"
   ]
  },
  {
   "cell_type": "code",
   "execution_count": 130,
   "id": "d51f6f33",
   "metadata": {},
   "outputs": [],
   "source": [
    "x = data.copy()\n",
    "y = x.pop('Rent')"
   ]
  },
  {
   "cell_type": "code",
   "execution_count": 131,
   "id": "4ff058bf",
   "metadata": {},
   "outputs": [],
   "source": [
    "from sklearn.compose import ColumnTransformer\n",
    "from sklearn.preprocessing import OneHotEncoder\n",
    "from sklearn.pipeline import Pipeline\n",
    "from sklearn.impute import SimpleImputer\n",
    "from sklearn.metrics import mean_absolute_error"
   ]
  },
  {
   "cell_type": "code",
   "execution_count": 132,
   "id": "349a968f",
   "metadata": {},
   "outputs": [],
   "source": [
    "X_train,X_valid,y_train,y_valid = train_test_split(x,y,train_size=0.8,random_state=0)"
   ]
  },
  {
   "cell_type": "code",
   "execution_count": 133,
   "id": "1ebd7e5d",
   "metadata": {},
   "outputs": [],
   "source": [
    "num_cols =[ cols for cols in X_train.columns if X_train[cols].dtype in ['int64','float64']]"
   ]
  },
  {
   "cell_type": "code",
   "execution_count": 134,
   "id": "2bc07a19",
   "metadata": {},
   "outputs": [],
   "source": [
    "cate_cols = [ cols for cols in X_train.columns if X_train[cols].dtype == 'object']"
   ]
  },
  {
   "cell_type": "code",
   "execution_count": 135,
   "id": "252d8383",
   "metadata": {},
   "outputs": [
    {
     "name": "stdout",
     "output_type": "stream",
     "text": [
      "Numerical columns: ['BHK', 'Sqft']\n",
      "Categorical columns: ['Main_Locality']\n"
     ]
    }
   ],
   "source": [
    "print(f'Numerical columns: {num_cols}')\n",
    "print(f'Categorical columns: {cate_cols}')"
   ]
  },
  {
   "cell_type": "code",
   "execution_count": 136,
   "id": "28b65ff4",
   "metadata": {},
   "outputs": [],
   "source": [
    "num_tra = SimpleImputer(strategy='median')\n",
    "\n",
    "cat_tra = Pipeline(steps=[('imputer',SimpleImputer(strategy='most_frequent')),\n",
    "                          ('onehot',OneHotEncoder(handle_unknown='ignore'))])"
   ]
  },
  {
   "cell_type": "code",
   "execution_count": 137,
   "id": "96fe2d83",
   "metadata": {},
   "outputs": [],
   "source": [
    "preprocessor = ColumnTransformer(\n",
    "    transformers=[\n",
    "        ('num',num_tra,num_cols),\n",
    "        ('cat',cat_tra,cate_cols)\n",
    "    ]\n",
    ")"
   ]
  },
  {
   "cell_type": "code",
   "execution_count": 138,
   "id": "15e926b8",
   "metadata": {},
   "outputs": [],
   "source": [
    "model = RandomForestRegressor(n_estimators=100, random_state=0)"
   ]
  },
  {
   "cell_type": "code",
   "execution_count": 139,
   "id": "854f9047",
   "metadata": {},
   "outputs": [],
   "source": [
    "clf = Pipeline(steps = [\n",
    "    ('preprocessor',preprocessor),\n",
    "    ('model',model)\n",
    "])"
   ]
  },
  {
   "cell_type": "code",
   "execution_count": 140,
   "id": "7b2933a8",
   "metadata": {},
   "outputs": [
    {
     "name": "stdout",
     "output_type": "stream",
     "text": [
      "MAE : 2194.538568197202\n"
     ]
    }
   ],
   "source": [
    "clf.fit(X_train,y_train)\n",
    "preds = clf.predict(X_valid)\n",
    "print('MAE :', mean_absolute_error(y_valid,preds))"
   ]
  },
  {
   "cell_type": "code",
   "execution_count": 141,
   "id": "d5d2ed93",
   "metadata": {},
   "outputs": [
    {
     "name": "stdout",
     "output_type": "stream",
     "text": [
      "MAE : 2156.3183485682707\n"
     ]
    }
   ],
   "source": [
    "model = RandomForestRegressor(n_estimators=1000,random_state=0)\n",
    "clf = Pipeline(steps = [\n",
    "    ('preprocessor',preprocessor),\n",
    "    ('model',model)\n",
    "])\n",
    "clf.fit(X_train,y_train)\n",
    "preds = clf.predict(X_valid)\n",
    "print('MAE :', mean_absolute_error(y_valid,preds))"
   ]
  },
  {
   "cell_type": "code",
   "execution_count": 142,
   "id": "23fdd613",
   "metadata": {},
   "outputs": [
    {
     "data": {
      "text/plain": [
       "['model.pkl']"
      ]
     },
     "execution_count": 142,
     "metadata": {},
     "output_type": "execute_result"
    }
   ],
   "source": [
    "import joblib\n",
    "\n",
    "# Save model\n",
    "joblib.dump(clf, 'model.pkl')"
   ]
  },
  {
   "cell_type": "code",
   "execution_count": 143,
   "id": "64cd0440",
   "metadata": {},
   "outputs": [
    {
     "data": {
      "text/plain": [
       "Index(['BHK', 'Main_Locality', 'Sqft', 'Rent'], dtype='object')"
      ]
     },
     "execution_count": 143,
     "metadata": {},
     "output_type": "execute_result"
    }
   ],
   "source": [
    "data.columns"
   ]
  },
  {
   "cell_type": "code",
   "execution_count": 144,
   "id": "8ef05fdd",
   "metadata": {},
   "outputs": [
    {
     "data": {
      "text/plain": [
       "array(['pal', 'palanpur', 'vesu', 'adajan', 'bhatar', 'varachha', 'udhna',\n",
       "       'katargam'], dtype=object)"
      ]
     },
     "execution_count": 144,
     "metadata": {},
     "output_type": "execute_result"
    }
   ],
   "source": [
    "data['Main_Locality'].unique()"
   ]
  },
  {
   "cell_type": "code",
   "execution_count": null,
   "id": "e78b5f13",
   "metadata": {},
   "outputs": [],
   "source": []
  }
 ],
 "metadata": {
  "kernelspec": {
   "display_name": "Python 3",
   "language": "python",
   "name": "python3"
  },
  "language_info": {
   "codemirror_mode": {
    "name": "ipython",
    "version": 3
   },
   "file_extension": ".py",
   "mimetype": "text/x-python",
   "name": "python",
   "nbconvert_exporter": "python",
   "pygments_lexer": "ipython3",
   "version": "3.11.9"
  }
 },
 "nbformat": 4,
 "nbformat_minor": 5
}
